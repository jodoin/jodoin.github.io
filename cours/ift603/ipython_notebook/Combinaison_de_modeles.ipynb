{
 "cells": [
  {
   "cell_type": "code",
   "execution_count": null,
   "metadata": {
    "collapsed": false,
    "jupyter": {
     "outputs_hidden": false
    }
   },
   "outputs": [],
   "source": [
    "import matplotlib.pyplot as plt\n",
    "import numpy as np\n",
    "from sklearn.linear_model import Ridge\n",
    "\n",
    "\n",
    "# Génération des N exemples\n",
    "N = 100\n",
    "X = np.random.rand(N,1)\n",
    "variance_bruit = 0.5\n",
    "t = np.sin(X*2*np.pi)+np.sqrt(variance_bruit)*np.random.randn(N,1)\n",
    "        \n",
    "# Fonction qui génère un ensemble bootstrap\n",
    "def bootstrap(X,t):\n",
    "    N = X.shape[0]    \n",
    "    # Tire un entier entre 1 et N, N fois, avec remplacement\n",
    "    ii = np.random.randint(N,size=(N,))\n",
    "    return X[ii-1,:],t[ii-1]\n",
    "\n",
    "# Fonctions de base polynomiales\n",
    "def fonctions_de_base(input):\n",
    "    return input**np.arange(10)\n",
    "\n",
    "# Bagging\n",
    "M = 1000\n",
    "modeles = []\n",
    "for m in range(M):\n",
    "    # Génère bootstrap\n",
    "    Xb, tb = bootstrap(X,t)\n",
    "    \n",
    "    # Entraîne modèle de régression sur bootstrap\n",
    "    m = Ridge(alpha=1e-10)\n",
    "    m.fit(fonctions_de_base(Xb),tb)\n",
    "    modeles.append(m)\n",
    "\n",
    "# Illustration de tous les modèles entraînés et du modèle moyen\n",
    "\n",
    "# Valeurs de x auxquelles on va évaluer les régresseurs\n",
    "input_space = np.linspace(0.0, 1.0).reshape((-1,1))\n",
    "\n",
    "plt.title('Tous les '+str(M)+' modeles')\n",
    "avg = np.zeros((len(input_space),1))\n",
    "for s in range(M):\n",
    "    pred_s = modeles[s].predict(fonctions_de_base(input_space))\n",
    "    plt.plot(input_space, pred_s,color='0.8')\n",
    "    plt.ylim([-1,2])\n",
    "    avg += pred_s\n",
    "avg /= M\n",
    "\n",
    "# Fonction E[t|x] que l'on cherche (la meilleure solution possible)\n",
    "plt.plot(input_space, np.sin(input_space*2*np.pi),'g',linewidth=2)\n",
    "# Moyenne du modèle entraîné\n",
    "plt.plot(input_space, avg.flatten(),'b',linewidth=2)\n",
    "plt.ylim([-1,2])"
   ]
  },
  {
   "cell_type": "code",
   "execution_count": null,
   "metadata": {
    "collapsed": false,
    "jupyter": {
     "outputs_hidden": false
    }
   },
   "outputs": [],
   "source": []
  }
 ],
 "metadata": {
  "kernelspec": {
   "display_name": "Python 3 (ipykernel)",
   "language": "python",
   "name": "python3"
  },
  "language_info": {
   "codemirror_mode": {
    "name": "ipython",
    "version": 3
   },
   "file_extension": ".py",
   "mimetype": "text/x-python",
   "name": "python",
   "nbconvert_exporter": "python",
   "pygments_lexer": "ipython3",
   "version": "3.8.10"
  }
 },
 "nbformat": 4,
 "nbformat_minor": 4
}
